{
  "nbformat": 4,
  "nbformat_minor": 0,
  "metadata": {
    "colab": {
      "name": "Basics 102.ipynb",
      "provenance": [],
      "toc_visible": true,
      "authorship_tag": "ABX9TyODdMlvUGVPCKfVMc2E1ie0",
      "include_colab_link": true
    },
    "kernelspec": {
      "name": "python3",
      "display_name": "Python 3"
    },
    "language_info": {
      "name": "python"
    }
  },
  "cells": [
    {
      "cell_type": "markdown",
      "metadata": {
        "id": "view-in-github",
        "colab_type": "text"
      },
      "source": [
        "<a href=\"https://colab.research.google.com/github/samsaysso/python-basics/blob/main/Basics_102.ipynb\" target=\"_parent\"><img src=\"https://colab.research.google.com/assets/colab-badge.svg\" alt=\"Open In Colab\"/></a>"
      ]
    },
    {
      "cell_type": "code",
      "execution_count": null,
      "metadata": {
        "colab": {
          "base_uri": "https://localhost:8080/"
        },
        "id": "MrU7J2dSj-Jb",
        "outputId": "5a5899f6-8d56-4773-ff03-9ddb4bd8b3f0"
      },
      "outputs": [
        {
          "output_type": "stream",
          "name": "stdout",
          "text": [
            "Hello World\n",
            "sam's world\n"
          ]
        }
      ],
      "source": [
        "message='Hello World'\n",
        "print(message)\n",
        "info='sam\\'s world'\n",
        "print(info)"
      ]
    },
    {
      "cell_type": "code",
      "source": [
        "message=\"Sam is 'sexy'!\"\n",
        "print(message)\n"
      ],
      "metadata": {
        "colab": {
          "base_uri": "https://localhost:8080/"
        },
        "id": "DNqzXyBMrLvj",
        "outputId": "09e76518-c328-437c-ae05-65072942e0dd"
      },
      "execution_count": null,
      "outputs": [
        {
          "output_type": "stream",
          "name": "stdout",
          "text": [
            "Sam is 'sexy'!\n"
          ]
        }
      ]
    },
    {
      "cell_type": "code",
      "source": [
        "a='''Help is on the way.\n",
        "Please don't panic'''\n",
        "print(a)\n",
        "print(len(a))\n",
        "print(a[0])\n",
        "print(a[0:11])\n",
        "print(a.upper())\n",
        "print(a.count('p'))\n",
        "print(a.find('Please'))\n",
        "new_a=a.replace('Help is', 'sam\\'s')\n",
        "print(new_a)"
      ],
      "metadata": {
        "colab": {
          "base_uri": "https://localhost:8080/"
        },
        "id": "oIVVtq_-r0-T",
        "outputId": "ff353f9d-1f95-4b14-81de-bf57e12f5cf5"
      },
      "execution_count": null,
      "outputs": [
        {
          "output_type": "stream",
          "name": "stdout",
          "text": [
            "Help is on the way.\n",
            "Please don't panic\n",
            "38\n",
            "H\n",
            "Help is on \n",
            "HELP IS ON THE WAY.\n",
            "PLEASE DON'T PANIC\n",
            "2\n",
            "20\n",
            "sam's on the way.\n",
            "Please don't panic\n"
          ]
        }
      ]
    },
    {
      "cell_type": "code",
      "source": [
        "b='hi'\n",
        "c='sam'\n",
        "d=', '\n",
        "print(b+d+c)\n",
        "\n",
        "print(a)\n",
        "a= f'{b}, {c.upper()}. Welcome!'\n",
        "print(dir(c))\n",
        "print(help(str.lower))"
      ],
      "metadata": {
        "colab": {
          "base_uri": "https://localhost:8080/"
        },
        "id": "w0r-okdDyDpc",
        "outputId": "c22d1661-5645-4005-d5cb-67aaffa77783"
      },
      "execution_count": null,
      "outputs": [
        {
          "output_type": "stream",
          "name": "stdout",
          "text": [
            "hi, sam\n",
            "hi, SAM. Welcome!\n",
            "['__add__', '__class__', '__contains__', '__delattr__', '__dir__', '__doc__', '__eq__', '__format__', '__ge__', '__getattribute__', '__getitem__', '__getnewargs__', '__gt__', '__hash__', '__init__', '__init_subclass__', '__iter__', '__le__', '__len__', '__lt__', '__mod__', '__mul__', '__ne__', '__new__', '__reduce__', '__reduce_ex__', '__repr__', '__rmod__', '__rmul__', '__setattr__', '__sizeof__', '__str__', '__subclasshook__', 'capitalize', 'casefold', 'center', 'count', 'encode', 'endswith', 'expandtabs', 'find', 'format', 'format_map', 'index', 'isalnum', 'isalpha', 'isascii', 'isdecimal', 'isdigit', 'isidentifier', 'islower', 'isnumeric', 'isprintable', 'isspace', 'istitle', 'isupper', 'join', 'ljust', 'lower', 'lstrip', 'maketrans', 'partition', 'replace', 'rfind', 'rindex', 'rjust', 'rpartition', 'rsplit', 'rstrip', 'split', 'splitlines', 'startswith', 'strip', 'swapcase', 'title', 'translate', 'upper', 'zfill']\n",
            "Help on method_descriptor:\n",
            "\n",
            "lower(self, /)\n",
            "    Return a copy of the string converted to lowercase.\n",
            "\n",
            "None\n"
          ]
        }
      ]
    },
    {
      "cell_type": "code",
      "source": [
        "num=3.222222222\n",
        "print(type(num))\n",
        "print(3/7)\n",
        "print(3//7)\n",
        "print(21%7)\n",
        "print(3*(2+1))"
      ],
      "metadata": {
        "colab": {
          "base_uri": "https://localhost:8080/"
        },
        "id": "KnwpaV8g1fpK",
        "outputId": "446b7dc3-d51a-4436-8e42-0f97fe5e4a4f"
      },
      "execution_count": null,
      "outputs": [
        {
          "output_type": "stream",
          "name": "stdout",
          "text": [
            "<class 'float'>\n",
            "0.42857142857142855\n",
            "0\n",
            "0\n",
            "9\n"
          ]
        }
      ]
    },
    {
      "cell_type": "code",
      "source": [
        "num=2\n",
        "num+=2\n",
        "print(num)\n",
        "print(abs(-23))\n",
        "print(round(3.122222, 3))"
      ],
      "metadata": {
        "colab": {
          "base_uri": "https://localhost:8080/"
        },
        "id": "t4zlI5Yb2yAU",
        "outputId": "8d18129b-725c-4795-bce0-c1168786a1ce"
      },
      "execution_count": null,
      "outputs": [
        {
          "output_type": "stream",
          "name": "stdout",
          "text": [
            "4\n",
            "23\n",
            "3.122\n"
          ]
        }
      ]
    },
    {
      "cell_type": "code",
      "source": [
        "num_1=2\n",
        "num_2=3\n",
        "print(num_1<num_2)\n",
        "print(num_1>=2)"
      ],
      "metadata": {
        "colab": {
          "base_uri": "https://localhost:8080/"
        },
        "id": "tnC7XDtCy9U3",
        "outputId": "180f0d89-499e-4581-ce7c-1b7feecaac53"
      },
      "execution_count": null,
      "outputs": [
        {
          "output_type": "stream",
          "name": "stdout",
          "text": [
            "True\n",
            "True\n"
          ]
        }
      ]
    },
    {
      "cell_type": "code",
      "source": [
        "a='100'\n",
        "b='200'\n",
        "print(a+b)\n",
        "a=int(100)\n",
        "b=int(200)\n",
        "print(a+b)"
      ],
      "metadata": {
        "id": "RwMBfwGkswej",
        "colab": {
          "base_uri": "https://localhost:8080/"
        },
        "outputId": "739bf2a7-f670-4222-a546-33ed25387a83"
      },
      "execution_count": null,
      "outputs": [
        {
          "output_type": "stream",
          "name": "stdout",
          "text": [
            "100200\n",
            "300\n"
          ]
        }
      ]
    },
    {
      "cell_type": "code",
      "source": [
        "courses=['History', 'Maths','comp Sc']\n",
        "print(len(courses))\n",
        "print(courses[0:2])\n",
        "print(courses[-1])\n",
        "\n",
        "\n",
        "\n",
        "\n",
        "for item in courses:\n",
        "\n",
        "  print(item)\n"
      ],
      "metadata": {
        "colab": {
          "base_uri": "https://localhost:8080/"
        },
        "id": "WQP6LtCBS1uI",
        "outputId": "a2ed097c-72a1-45bd-f990-4368c8dc2700"
      },
      "execution_count": null,
      "outputs": [
        {
          "output_type": "stream",
          "name": "stdout",
          "text": [
            "3\n",
            "['History', 'Maths']\n",
            "comp Sc\n",
            "History\n",
            "Maths\n",
            "comp Sc\n"
          ]
        }
      ]
    },
    {
      "cell_type": "code",
      "source": [
        "courses=['history', 'maths', 'compsc']\n",
        "\n",
        "course_str='-'.join(courses)\n",
        "print(course_str)\n",
        "new_list=course_str.split('-')\n",
        "print(new_list)"
      ],
      "metadata": {
        "colab": {
          "base_uri": "https://localhost:8080/"
        },
        "id": "7YqK6O4qzQxK",
        "outputId": "ec21368a-0f05-478e-9f6e-f6e3e55550b1"
      },
      "execution_count": null,
      "outputs": [
        {
          "output_type": "stream",
          "name": "stdout",
          "text": [
            "history-maths-compsc\n",
            "['history', 'maths', 'compsc']\n"
          ]
        }
      ]
    },
    {
      "cell_type": "code",
      "source": [
        "a= ['biology', 'physics', 'maths']\n",
        "print(a)\n",
        "a[1]='art'\n",
        "print(a)"
      ],
      "metadata": {
        "colab": {
          "base_uri": "https://localhost:8080/"
        },
        "id": "-gBHpsYL1P0x",
        "outputId": "d015c395-09da-4a71-efe0-531a254eca9c"
      },
      "execution_count": null,
      "outputs": [
        {
          "output_type": "stream",
          "name": "stdout",
          "text": [
            "['biology', 'physics', 'maths']\n",
            "['biology', 'art', 'maths']\n"
          ]
        }
      ]
    },
    {
      "cell_type": "code",
      "source": [
        "tuple_1=('biology', 'physics', 'maths')\n",
        "tuple_2=tuple_1\n",
        "\n",
        "print(tuple_2)\n",
        "print(tuple_1)"
      ],
      "metadata": {
        "colab": {
          "base_uri": "https://localhost:8080/"
        },
        "id": "otvVvFiE3Age",
        "outputId": "60c74f20-e398-4b03-b39d-0d7669444228"
      },
      "execution_count": null,
      "outputs": [
        {
          "output_type": "stream",
          "name": "stdout",
          "text": [
            "('biology', 'physics', 'maths')\n",
            "('biology', 'physics', 'maths')\n"
          ]
        }
      ]
    },
    {
      "cell_type": "code",
      "source": [
        "cs_courses={'biology', 'physics', 'maths', 'compsc', 'maths'}\n",
        "print(cs_courses)\n"
      ],
      "metadata": {
        "colab": {
          "base_uri": "https://localhost:8080/"
        },
        "id": "kYO4iGEm32Yh",
        "outputId": "3af17b34-32a5-4041-ea49-90af1d81603c"
      },
      "execution_count": null,
      "outputs": [
        {
          "output_type": "stream",
          "name": "stdout",
          "text": [
            "{'compsc', 'physics', 'biology', 'maths'}\n"
          ]
        }
      ]
    },
    {
      "cell_type": "code",
      "source": [
        "cs_courses={'biology', 'physics', 'maths', 'compsc', 'maths'}\n",
        "art_courses={'history', 'arts', 'maths', 'design', 'maths'}\n",
        "print(cs_courses.intersection(art_courses))\n",
        "print(cs_courses.difference(art_courses))\n",
        "print(cs_courses.union(art_courses))"
      ],
      "metadata": {
        "colab": {
          "base_uri": "https://localhost:8080/"
        },
        "id": "9v8j3O-I4c0b",
        "outputId": "2837d1be-f5bc-400f-a0df-2b93aef33aeb"
      },
      "execution_count": null,
      "outputs": [
        {
          "output_type": "stream",
          "name": "stdout",
          "text": [
            "{'maths'}\n",
            "{'physics', 'compsc', 'biology'}\n",
            "{'design', 'maths', 'compsc', 'biology', 'arts', 'history', 'physics'}\n"
          ]
        }
      ]
    },
    {
      "cell_type": "code",
      "source": [
        "empty_set=set()\n",
        "empty_set_1={}\n",
        "print(empty_set)\n",
        "print(empty_set_1)"
      ],
      "metadata": {
        "colab": {
          "base_uri": "https://localhost:8080/"
        },
        "id": "yUaVIzJV5ah1",
        "outputId": "8f5dfbe1-fd96-4904-e7f9-1e9c3322f06c"
      },
      "execution_count": null,
      "outputs": [
        {
          "output_type": "stream",
          "name": "stdout",
          "text": [
            "set()\n",
            "{}\n"
          ]
        }
      ]
    },
    {
      "cell_type": "code",
      "source": [
        "student={'name':'John', 'age':'25'}\n",
        "print(student)"
      ],
      "metadata": {
        "id": "8iziveez9Aeh",
        "colab": {
          "base_uri": "https://localhost:8080/"
        },
        "outputId": "3cc000d0-0c15-47ac-d18a-ee48275177a0"
      },
      "execution_count": 1,
      "outputs": [
        {
          "output_type": "stream",
          "name": "stdout",
          "text": [
            "{'name': 'John', 'age': '25'}\n"
          ]
        }
      ]
    },
    {
      "cell_type": "code",
      "source": [
        "if False:\n",
        "  print('Conditional was True')"
      ],
      "metadata": {
        "id": "A3TUZTllV7cB"
      },
      "execution_count": 8,
      "outputs": []
    },
    {
      "cell_type": "code",
      "source": [
        "if True:\n",
        "  print('Conditional was True')"
      ],
      "metadata": {
        "colab": {
          "base_uri": "https://localhost:8080/"
        },
        "id": "dM8CcAoMWc-T",
        "outputId": "a7236e1c-0104-4b5e-f4d7-8d22d39e14e1"
      },
      "execution_count": 9,
      "outputs": [
        {
          "output_type": "stream",
          "name": "stdout",
          "text": [
            "Conditional was True\n"
          ]
        }
      ]
    },
    {
      "cell_type": "code",
      "source": [
        "language='Python'\n",
        "if language == 'Python':\n",
        "  print('Conditional was True')"
      ],
      "metadata": {
        "colab": {
          "base_uri": "https://localhost:8080/"
        },
        "id": "zfgQZqc7Wzgt",
        "outputId": "9c667996-a718-4f78-8448-f89f3a13221f"
      },
      "execution_count": 12,
      "outputs": [
        {
          "output_type": "stream",
          "name": "stdout",
          "text": [
            "Conditional was True\n"
          ]
        }
      ]
    },
    {
      "cell_type": "code",
      "source": [
        "a=int(100)\n",
        "b=int(200)\n",
        "if a+b >= a-b:\n",
        "  print('Condition is True')"
      ],
      "metadata": {
        "colab": {
          "base_uri": "https://localhost:8080/"
        },
        "id": "QDq1WxwhXVG8",
        "outputId": "660fd158-d027-40fb-a662-eca7bdb2f359"
      },
      "execution_count": 14,
      "outputs": [
        {
          "output_type": "stream",
          "name": "stdout",
          "text": [
            "Condition is True\n"
          ]
        }
      ]
    }
  ]
}