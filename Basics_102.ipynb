{
  "nbformat": 4,
  "nbformat_minor": 0,
  "metadata": {
    "colab": {
      "name": "Basics 102.ipynb",
      "provenance": [],
      "authorship_tag": "ABX9TyPeDPupWZMYfom7s1EOh0Pq",
      "include_colab_link": true
    },
    "kernelspec": {
      "name": "python3",
      "display_name": "Python 3"
    },
    "language_info": {
      "name": "python"
    }
  },
  "cells": [
    {
      "cell_type": "markdown",
      "metadata": {
        "id": "view-in-github",
        "colab_type": "text"
      },
      "source": [
        "<a href=\"https://colab.research.google.com/github/samsaysso/python-basics/blob/main/Basics_102.ipynb\" target=\"_parent\"><img src=\"https://colab.research.google.com/assets/colab-badge.svg\" alt=\"Open In Colab\"/></a>"
      ]
    },
    {
      "cell_type": "code",
      "execution_count": null,
      "metadata": {
        "colab": {
          "base_uri": "https://localhost:8080/"
        },
        "id": "MrU7J2dSj-Jb",
        "outputId": "5a5899f6-8d56-4773-ff03-9ddb4bd8b3f0"
      },
      "outputs": [
        {
          "output_type": "stream",
          "name": "stdout",
          "text": [
            "Hello World\n",
            "sam's world\n"
          ]
        }
      ],
      "source": [
        "message='Hello World'\n",
        "print(message)\n",
        "info='sam\\'s world'\n",
        "print(info)"
      ]
    },
    {
      "cell_type": "code",
      "source": [
        "message=\"Sam is 'sexy'!\"\n",
        "print(message)\n"
      ],
      "metadata": {
        "colab": {
          "base_uri": "https://localhost:8080/"
        },
        "id": "DNqzXyBMrLvj",
        "outputId": "09e76518-c328-437c-ae05-65072942e0dd"
      },
      "execution_count": 9,
      "outputs": [
        {
          "output_type": "stream",
          "name": "stdout",
          "text": [
            "Sam is 'sexy'!\n"
          ]
        }
      ]
    },
    {
      "cell_type": "code",
      "source": [
        "a='''Help is on the way.\n",
        "Please don't panic'''\n",
        "print(a)\n",
        "print(len(a))\n",
        "print(a[0])"
      ],
      "metadata": {
        "colab": {
          "base_uri": "https://localhost:8080/"
        },
        "id": "oIVVtq_-r0-T",
        "outputId": "04d0db02-e567-43f6-e50c-82d31eeb67a3"
      },
      "execution_count": 17,
      "outputs": [
        {
          "output_type": "stream",
          "name": "stdout",
          "text": [
            "Help is on the way.\n",
            "Please don't panic\n",
            "38\n",
            "H\n"
          ]
        }
      ]
    },
    {
      "cell_type": "code",
      "source": [
        ""
      ],
      "metadata": {
        "id": "RwMBfwGkswej"
      },
      "execution_count": null,
      "outputs": []
    }
  ]
}