{
  "nbformat": 4,
  "nbformat_minor": 0,
  "metadata": {
    "colab": {
      "name": "Basics 102.ipynb",
      "provenance": [],
      "authorship_tag": "ABX9TyNtqOc5c4/F8EBepcKoV2wN",
      "include_colab_link": true
    },
    "kernelspec": {
      "name": "python3",
      "display_name": "Python 3"
    },
    "language_info": {
      "name": "python"
    }
  },
  "cells": [
    {
      "cell_type": "markdown",
      "metadata": {
        "id": "view-in-github",
        "colab_type": "text"
      },
      "source": [
        "<a href=\"https://colab.research.google.com/github/samsaysso/python-basics/blob/main/Basics_102.ipynb\" target=\"_parent\"><img src=\"https://colab.research.google.com/assets/colab-badge.svg\" alt=\"Open In Colab\"/></a>"
      ]
    },
    {
      "cell_type": "code",
      "execution_count": null,
      "metadata": {
        "colab": {
          "base_uri": "https://localhost:8080/"
        },
        "id": "MrU7J2dSj-Jb",
        "outputId": "5a5899f6-8d56-4773-ff03-9ddb4bd8b3f0"
      },
      "outputs": [
        {
          "output_type": "stream",
          "name": "stdout",
          "text": [
            "Hello World\n",
            "sam's world\n"
          ]
        }
      ],
      "source": [
        "message='Hello World'\n",
        "print(message)\n",
        "info='sam\\'s world'\n",
        "print(info)"
      ]
    },
    {
      "cell_type": "code",
      "source": [
        "message=\"Sam is 'sexy'!\"\n",
        "print(message)\n"
      ],
      "metadata": {
        "colab": {
          "base_uri": "https://localhost:8080/"
        },
        "id": "DNqzXyBMrLvj",
        "outputId": "09e76518-c328-437c-ae05-65072942e0dd"
      },
      "execution_count": 9,
      "outputs": [
        {
          "output_type": "stream",
          "name": "stdout",
          "text": [
            "Sam is 'sexy'!\n"
          ]
        }
      ]
    },
    {
      "cell_type": "code",
      "source": [
        "a='''Help is on the way.\n",
        "Please don't panic'''\n",
        "print(a)\n",
        "print(len(a))\n",
        "print(a[0])\n",
        "print(a[0:11])\n",
        "print(a.upper())\n",
        "print(a.count('p'))\n",
        "print(a.find('Please'))\n",
        "new_a=a.replace('Help is', 'sam\\'s')\n",
        "print(new_a)"
      ],
      "metadata": {
        "colab": {
          "base_uri": "https://localhost:8080/"
        },
        "id": "oIVVtq_-r0-T",
        "outputId": "ff353f9d-1f95-4b14-81de-bf57e12f5cf5"
      },
      "execution_count": 34,
      "outputs": [
        {
          "output_type": "stream",
          "name": "stdout",
          "text": [
            "Help is on the way.\n",
            "Please don't panic\n",
            "38\n",
            "H\n",
            "Help is on \n",
            "HELP IS ON THE WAY.\n",
            "PLEASE DON'T PANIC\n",
            "2\n",
            "20\n",
            "sam's on the way.\n",
            "Please don't panic\n"
          ]
        }
      ]
    },
    {
      "cell_type": "code",
      "source": [
        "b='hi'\n",
        "c='sam'\n",
        "d=', '\n",
        "print(b+d+c)\n",
        "\n",
        "print(a)\n",
        "a= f'{b}, {c.upper()}. Welcome!'\n",
        "print(dir(c))\n",
        "print(help(str.lower))"
      ],
      "metadata": {
        "colab": {
          "base_uri": "https://localhost:8080/"
        },
        "id": "w0r-okdDyDpc",
        "outputId": "c22d1661-5645-4005-d5cb-67aaffa77783"
      },
      "execution_count": 52,
      "outputs": [
        {
          "output_type": "stream",
          "name": "stdout",
          "text": [
            "hi, sam\n",
            "hi, SAM. Welcome!\n",
            "['__add__', '__class__', '__contains__', '__delattr__', '__dir__', '__doc__', '__eq__', '__format__', '__ge__', '__getattribute__', '__getitem__', '__getnewargs__', '__gt__', '__hash__', '__init__', '__init_subclass__', '__iter__', '__le__', '__len__', '__lt__', '__mod__', '__mul__', '__ne__', '__new__', '__reduce__', '__reduce_ex__', '__repr__', '__rmod__', '__rmul__', '__setattr__', '__sizeof__', '__str__', '__subclasshook__', 'capitalize', 'casefold', 'center', 'count', 'encode', 'endswith', 'expandtabs', 'find', 'format', 'format_map', 'index', 'isalnum', 'isalpha', 'isascii', 'isdecimal', 'isdigit', 'isidentifier', 'islower', 'isnumeric', 'isprintable', 'isspace', 'istitle', 'isupper', 'join', 'ljust', 'lower', 'lstrip', 'maketrans', 'partition', 'replace', 'rfind', 'rindex', 'rjust', 'rpartition', 'rsplit', 'rstrip', 'split', 'splitlines', 'startswith', 'strip', 'swapcase', 'title', 'translate', 'upper', 'zfill']\n",
            "Help on method_descriptor:\n",
            "\n",
            "lower(self, /)\n",
            "    Return a copy of the string converted to lowercase.\n",
            "\n",
            "None\n"
          ]
        }
      ]
    },
    {
      "cell_type": "code",
      "source": [
        "num=3.222222222\n",
        "print(type(num))\n",
        "print(3/7)\n",
        "print(3//7)\n",
        "print(21%7)\n",
        "print(3*(2+1))"
      ],
      "metadata": {
        "colab": {
          "base_uri": "https://localhost:8080/"
        },
        "id": "KnwpaV8g1fpK",
        "outputId": "446b7dc3-d51a-4436-8e42-0f97fe5e4a4f"
      },
      "execution_count": 60,
      "outputs": [
        {
          "output_type": "stream",
          "name": "stdout",
          "text": [
            "<class 'float'>\n",
            "0.42857142857142855\n",
            "0\n",
            "0\n",
            "9\n"
          ]
        }
      ]
    },
    {
      "cell_type": "code",
      "source": [
        "num=2\n",
        "num+=2\n",
        "print(num)\n",
        "print(abs(-23))\n",
        "print(round(3.122222, 3))"
      ],
      "metadata": {
        "colab": {
          "base_uri": "https://localhost:8080/"
        },
        "id": "t4zlI5Yb2yAU",
        "outputId": "8d18129b-725c-4795-bce0-c1168786a1ce"
      },
      "execution_count": 65,
      "outputs": [
        {
          "output_type": "stream",
          "name": "stdout",
          "text": [
            "4\n",
            "23\n",
            "3.122\n"
          ]
        }
      ]
    },
    {
      "cell_type": "code",
      "source": [
        "num_1=2\n",
        "num_2=3\n",
        "print(num_1<num_2)\n",
        "print(num_1>=2)"
      ],
      "metadata": {
        "colab": {
          "base_uri": "https://localhost:8080/"
        },
        "id": "tnC7XDtCy9U3",
        "outputId": "180f0d89-499e-4581-ce7c-1b7feecaac53"
      },
      "execution_count": 68,
      "outputs": [
        {
          "output_type": "stream",
          "name": "stdout",
          "text": [
            "True\n",
            "True\n"
          ]
        }
      ]
    },
    {
      "cell_type": "code",
      "source": [
        ""
      ],
      "metadata": {
        "id": "RwMBfwGkswej"
      },
      "execution_count": null,
      "outputs": []
    }
  ]
}