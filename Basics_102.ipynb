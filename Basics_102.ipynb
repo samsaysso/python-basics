{
  "nbformat": 4,
  "nbformat_minor": 0,
  "metadata": {
    "colab": {
      "name": "Basics 102.ipynb",
      "provenance": [],
      "authorship_tag": "ABX9TyNNK8V+FDvfR5+JGcXB5ltj",
      "include_colab_link": true
    },
    "kernelspec": {
      "name": "python3",
      "display_name": "Python 3"
    },
    "language_info": {
      "name": "python"
    }
  },
  "cells": [
    {
      "cell_type": "markdown",
      "metadata": {
        "id": "view-in-github",
        "colab_type": "text"
      },
      "source": [
        "<a href=\"https://colab.research.google.com/github/samsaysso/python-basics/blob/main/Basics_102.ipynb\" target=\"_parent\"><img src=\"https://colab.research.google.com/assets/colab-badge.svg\" alt=\"Open In Colab\"/></a>"
      ]
    },
    {
      "cell_type": "code",
      "execution_count": 8,
      "metadata": {
        "colab": {
          "base_uri": "https://localhost:8080/"
        },
        "id": "MrU7J2dSj-Jb",
        "outputId": "5a5899f6-8d56-4773-ff03-9ddb4bd8b3f0"
      },
      "outputs": [
        {
          "output_type": "stream",
          "name": "stdout",
          "text": [
            "Hello World\n",
            "sam's world\n"
          ]
        }
      ],
      "source": [
        "message='Hello World'\n",
        "print(message)\n",
        "info='sam\\'s world'\n",
        "print(info)"
      ]
    }
  ]
}