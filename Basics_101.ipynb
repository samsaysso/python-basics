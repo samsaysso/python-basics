{
  "nbformat": 4,
  "nbformat_minor": 0,
  "metadata": {
    "colab": {
      "name": "Basics 101.ipynb",
      "provenance": [],
      "authorship_tag": "ABX9TyPaOQLDYOQy7xCYUW6W1hVX",
      "include_colab_link": true
    },
    "kernelspec": {
      "name": "python3",
      "display_name": "Python 3"
    },
    "language_info": {
      "name": "python"
    }
  },
  "cells": [
    {
      "cell_type": "markdown",
      "metadata": {
        "id": "view-in-github",
        "colab_type": "text"
      },
      "source": [
        "<a href=\"https://colab.research.google.com/github/samsaysso/python-basics/blob/main/Basics_101.ipynb\" target=\"_parent\"><img src=\"https://colab.research.google.com/assets/colab-badge.svg\" alt=\"Open In Colab\"/></a>"
      ]
    },
    {
      "cell_type": "code",
      "execution_count": null,
      "metadata": {
        "colab": {
          "base_uri": "https://localhost:8080/"
        },
        "id": "C6B905E3dMXx",
        "outputId": "18893786-8683-41ad-b677-c29c2adbf383"
      },
      "outputs": [
        {
          "output_type": "stream",
          "name": "stdout",
          "text": [
            "hello world\n"
          ]
        }
      ],
      "source": [
        "print ('hello world')"
      ]
    },
    {
      "cell_type": "code",
      "source": [
        ""
      ],
      "metadata": {
        "id": "aDHOCUAvdhEk"
      },
      "execution_count": null,
      "outputs": []
    },
    {
      "cell_type": "markdown",
      "source": [
        ""
      ],
      "metadata": {
        "id": "6r2OvRutdh33"
      }
    },
    {
      "cell_type": "code",
      "source": [
        "a=1 \n",
        "b=2\n",
        "print(a+b)"
      ],
      "metadata": {
        "id": "QJr0Mw7pdic0",
        "colab": {
          "base_uri": "https://localhost:8080/"
        },
        "outputId": "9d39a5aa-1d49-4224-a76a-6aff119a8bf5"
      },
      "execution_count": 2,
      "outputs": [
        {
          "output_type": "stream",
          "name": "stdout",
          "text": [
            "3\n"
          ]
        }
      ]
    }
  ]
}